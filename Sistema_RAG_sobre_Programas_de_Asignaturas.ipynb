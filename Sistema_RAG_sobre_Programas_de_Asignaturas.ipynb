{
  "cells": [
    {
      "cell_type": "markdown",
      "id": "6RPompjyNQ2l",
      "metadata": {
        "id": "6RPompjyNQ2l"
      },
      "source": [
        "# 📚 Propuesta de Trabajo: Sistema RAG con Base Vectorial sobre programas de asignaturas de la UNLu\n",
        "Se propone la implementación de un sistema de Recuperación Aumentada por Generación (RAG) utilizando como colección de documentos los Programas de distintas asignaturas de carreras de la Universidad Nacional de Luján.\n",
        "\n",
        "El sistema se construirá mediante el uso de embeddings, el motor de búsqueda vectorial Chroma, y un modelo de lenguaje de Llama para generar respuestas precisas basadas en la información recuperada."
      ]
    },
    {
      "cell_type": "markdown",
      "id": "CYrXx-zGLo1Q",
      "metadata": {
        "id": "CYrXx-zGLo1Q"
      },
      "source": [
        "## 📘 Introducción: LlamaIndex y RAG\n",
        "\n",
        "### 🧠 ¿Qué es LlamaIndex?\n",
        "**LlamaIndex** es un framework diseñado para construir aplicaciones basadas en modelos de lenguaje (LLM) que utilizan **información externa y específica de dominio**.  \n",
        "Permite extender las capacidades de los LLMs integrando datos privados, actualizados o especializados.\n",
        "\n",
        "### 🔎 ¿Qué es Retrieval-Augmented Generation (RAG)?\n",
        "Los modelos de lenguaje tradicionales tienen un conocimiento limitado a los datos públicos con los que fueron entrenados.\n",
        "\n",
        "La **Generación Aumentada por Recuperación (RAG)** soluciona este problema incorporando información relevante y dinámica desde fuentes externas (documentos, bases de datos, APIs, etc.), justo en el momento de la consulta.\n",
        "\n",
        "Este enfoque representa un cambio importante:\n",
        "- Las respuestas **no dependen solo del conocimiento entrenado** en el modelo.\n",
        "- Se incorpora **contexto recuperado en tiempo real**, lo que mejora precisión y reduce alucinaciones.\n",
        "\n",
        "### ⚙️ Flujo del proceso con LlamaIndex + RAG\n",
        "\n",
        "1. 🗣️ **Consulta del Usuario**  \n",
        "   El usuario formula una pregunta o solicitud.\n",
        "\n",
        "2. 📂 **Recuperación de Contexto**  \n",
        "   El sistema consulta un índice previamente construido y selecciona los fragmentos de texto más relevantes.\n",
        "\n",
        "3. 🧩 **Integración de Datos**  \n",
        "   Se pueden combinar múltiples fuentes:  \n",
        "   - Datos estructurados (bases SQL, CSVs)  \n",
        "   - Datos no estructurados (PDFs, documentos)  \n",
        "   - Datos programáticos (APIs)\n",
        "\n",
        "4. ✍️ **Construcción del Prompt**  \n",
        "   Se genera un prompt enriquecido que contiene la pregunta original y los fragmentos recuperados como contexto adicional.\n",
        "\n",
        "5. 🤖 **Generación de la Respuesta**  \n",
        "   El LLM utiliza el contexto aportado para generar una respuesta precisa, sin depender únicamente de su memoria interna.\n",
        "\n",
        "6. 📬 **Entrega de la Respuesta**  \n",
        "   El modelo devuelve una respuesta contextualizada, combinando su conocimiento general con la información específica recuperada.\n"
      ]
    },
    {
      "cell_type": "markdown",
      "id": "Wxfcg6i5MP39",
      "metadata": {
        "id": "Wxfcg6i5MP39"
      },
      "source": [
        "# 🛠️ Pipeline RAG implementado con LlamaIndex"
      ]
    },
    {
      "cell_type": "markdown",
      "id": "dEuTNG-wMYj3",
      "metadata": {
        "id": "dEuTNG-wMYj3"
      },
      "source": [
        "## 📦 Instalación de paquetes y configuración de API Key"
      ]
    },
    {
      "cell_type": "code",
      "source": [
        "%pip install llama-index llama-index-embeddings-jinaai llama-index-vector-stores-chroma llama-index-llms-huggingface-api --quiet\n",
        "%pip install requests beautifulsoup4 pdf2image PyPDF2 pytesseract --quiet\n",
        "!sudo apt install tesseract-ocr poppler-utils\n",
        "!sudo apt update\n",
        "!sudo apt install tesseract-ocr-spa"
      ],
      "metadata": {
        "id": "zCfyGRu0qqWc",
        "collapsed": true
      },
      "id": "zCfyGRu0qqWc",
      "execution_count": null,
      "outputs": []
    },
    {
      "cell_type": "markdown",
      "id": "vJOK_dW7M_Nt",
      "metadata": {
        "id": "vJOK_dW7M_Nt"
      },
      "source": [
        "## 📥 Loading de Documentos\n"
      ]
    },
    {
      "cell_type": "markdown",
      "id": "PgaJMrSPNcaY",
      "metadata": {
        "id": "PgaJMrSPNcaY"
      },
      "source": [
        "### 🧾 ¿Qué se carga en LlamaIndex?\n",
        "Los documentos pueden provenir de **cualquier fuente de datos**, como: PDFs, Sitios web, Bases de datos o APIs\n",
        "\n",
        "### 🔌 Readers\n",
        "LlamaIndex utiliza componentes llamados **Readers** (también conocidos como *Loaders* o *Connectors*) que:\n",
        "\n",
        "- ✅ Permiten importar información desde múltiples formatos.\n",
        "- 📚 Soportan datos: **Estructurados** (como tablas o bases SQL), **No estructurados** (como texto libre, PDFs, HTMLs) y **Programáticos** (como respuestas desde APIs).\n",
        "Transforman las fuentes originales en objetos `Document`, que contienen:\n",
        "   - El **contenido textual extraído**.\n",
        "   - **Metadatos** como nombre de archivo, URL, título, etc."
      ]
    },
    {
      "cell_type": "code",
      "execution_count": null,
      "id": "pVaUI9Kprlug",
      "metadata": {
        "collapsed": true,
        "id": "pVaUI9Kprlug"
      },
      "outputs": [],
      "source": [
        "import os, requests, tempfile, shutil, pytesseract\n",
        "from pathlib import Path\n",
        "from bs4 import BeautifulSoup\n",
        "from pdf2image import convert_from_path\n",
        "from PyPDF2 import PdfReader\n",
        "from urllib.parse import urljoin\n",
        "from llama_index.core import SimpleDirectoryReader\n",
        "import re\n",
        "\n",
        "def download_pdf(url):\n",
        "    response = requests.get(url)\n",
        "    response.raise_for_status()\n",
        "    tmp_file = tempfile.NamedTemporaryFile(delete=False, suffix=\".pdf\")\n",
        "    with open(tmp_file.name, \"wb\") as f:\n",
        "        f.write(response.content)\n",
        "    return tmp_file.name\n",
        "\n",
        "def is_pdf_selectable(pdf_path):\n",
        "    try:\n",
        "        reader = PdfReader(pdf_path)\n",
        "        for page in reader.pages:\n",
        "            text = page.extract_text()\n",
        "            if text and text.strip():\n",
        "                return True\n",
        "        return False\n",
        "    except Exception as e:\n",
        "        print(f\"⚠️ Error leyendo PDF: {e}\")\n",
        "        return False\n",
        "\n",
        "def ocr_pdf_to_text(pdf_path):\n",
        "    images = convert_from_path(pdf_path)\n",
        "    text = \"\"\n",
        "    for img in images:\n",
        "        text += pytesseract.image_to_string(img, lang=\"spa\") + \"\\n\"\n",
        "    return text\n",
        "\n",
        "def process_pdf_from_url(url, file_name, output_dir=\".\"):\n",
        "    pdf_path = download_pdf(url)\n",
        "\n",
        "    base_name = Path(file_name).stem  # Ej: \"11071_0\"\n",
        "\n",
        "    output_txt_path = os.path.join(output_dir, f\"{base_name}.txt\")\n",
        "    output_pdf_path = os.path.join(output_dir, file_name)\n",
        "\n",
        "    if is_pdf_selectable(pdf_path):\n",
        "        print(\"✅ PDF con texto seleccionable. Guardando sin modificar...\")\n",
        "        shutil.move(pdf_path, output_pdf_path)\n",
        "        print(f\"📄 PDF guardado en: {output_pdf_path}\")\n",
        "        return output_pdf_path\n",
        "    else:\n",
        "        print(\"🧾 PDF escaneado. Usando OCR y guardando como texto...\")\n",
        "        text = ocr_pdf_to_text(pdf_path)\n",
        "        with open(output_txt_path, \"w\", encoding=\"utf-8\") as f:\n",
        "            f.write(text)\n",
        "        print(f\"📝 Texto OCR guardado en: {output_txt_path}\")\n",
        "        return output_txt_path\n",
        "\n",
        "def get_meta(file_path):\n",
        "    return {\n",
        "        \"carrera\": os.path.basename(os.path.dirname(file_path)),\n",
        "        \"asignatura\": os.path.splitext(os.path.basename(file_path))[0]\n",
        "    }\n",
        "\n",
        "def get_programas_dir(url, name):\n",
        "    PROGRAMAS_DIR = \"./programas/\" + name\n",
        "    return PROGRAMAS_DIR\n",
        "\n",
        "def get_programas_de_asignatura(url):\n",
        "    PAGINA_ASIGNATURA = url\n",
        "\n",
        "    try:\n",
        "        resp = requests.get(PAGINA_ASIGNATURA)\n",
        "        resp.raise_for_status()\n",
        "        soup = BeautifulSoup(resp.text, \"html.parser\")\n",
        "    except Exception as e:\n",
        "        print(f\"❌ Error al obtener la página: {e}\")\n",
        "        exit()\n",
        "\n",
        "    nombre_carrera = soup.find_all(\"h1\", class_=\"page-title\")[0].get_text(strip=True)\n",
        "    nombre_carrera = re.sub(r\"\\s*\\(.*?\\)\", \"\", nombre_carrera).strip()\n",
        "    print(f\"Nombre de la carrera: {nombre_carrera}\")\n",
        "\n",
        "    PROGRAMAS_DIR = get_programas_dir(url, nombre_carrera)\n",
        "\n",
        "    os.makedirs(PROGRAMAS_DIR, exist_ok=True)\n",
        "\n",
        "    links = soup.find_all(\"a\", href=True)\n",
        "    pdf_links = []\n",
        "\n",
        "    for link in links:\n",
        "        href = link[\"href\"]\n",
        "        if href.lower().endswith(\".pdf\") and \"/Programas/\" in href:\n",
        "            full_url = urljoin(PAGINA_ASIGNATURA, href)\n",
        "            texto = link.get_text(strip=True)  # también podés usar link.text.strip()\n",
        "            pdf_links.append((full_url, texto))\n",
        "\n",
        "    pdf_links = sorted(set(pdf_links))\n",
        "    print(f\"Enlaces PDF detectados: {len(pdf_links)}\")\n",
        "    print()\n",
        "\n",
        "    for url,file_name in pdf_links:\n",
        "        print(f\"Nombre de la asignatura: {file_name}\")\n",
        "        process_pdf_from_url(url, file_name, PROGRAMAS_DIR)\n",
        "        print()\n",
        "\n",
        "    reader_programas = SimpleDirectoryReader(PROGRAMAS_DIR, file_metadata = get_meta)\n",
        "    return reader_programas.load_data(), nombre_carrera\n",
        "\n",
        "def es_url_valida(url):\n",
        "    patron = r\"^https://www\\.certificaciones\\.unlu\\.edu\\.ar/\\?q=node/\\d+$\"\n",
        "    return re.match(patron, url) is not None\n",
        "\n",
        "\n",
        "documentos_dict = {}\n",
        "\n",
        "entrada = \"\"\n",
        "while entrada != \"SALIR\":\n",
        "    print(\"Las listas de programas de asignaturas tienen esta forma: 'https://www.certificaciones.unlu.edu.ar/?q=node/<X>'. X varía dependiendo de la carrera\")\n",
        "    entrada = input(\"Ingrese la página web que lista las asignaturas: \")\n",
        "\n",
        "    if es_url_valida(entrada):\n",
        "        documentos_programa, nombre_carrera = get_programas_de_asignatura(entrada)\n",
        "        documents_dict[nombre_carrera] = documentos_programa\n",
        "    elif entrada.upper() != \"SALIR\":\n",
        "        print(\"URL inválida. Intente nuevamente.\")\n",
        "print(\"Saliendo...\")\n",
        "\n",
        "# EJEMPLO DE URL A INGRESAR: https://www.certificaciones.unlu.edu.ar/?q=node/43"
      ]
    },
    {
      "cell_type": "markdown",
      "source": [
        "#### Si se cuenta ya con los archivos textuales de los programas en el entorno de ejecución, se puede ejecutar esta celda para no procesar nuevamente desde la página oficial de la asignatura"
      ],
      "metadata": {
        "id": "xyra-KkM1orS"
      },
      "id": "xyra-KkM1orS"
    },
    {
      "cell_type": "code",
      "execution_count": null,
      "id": "S5gHE4TDKT7Q",
      "metadata": {
        "id": "S5gHE4TDKT7Q"
      },
      "outputs": [],
      "source": [
        "import os\n",
        "\n",
        "PROGRAMAS_DIR = \"programas\"\n",
        "\n",
        "def get_meta(file_path):\n",
        "    return {\n",
        "        \"carrera\": os.path.basename(os.path.dirname(file_path)),\n",
        "        \"asignatura\": os.path.splitext(os.path.basename(file_path))[0]\n",
        "    }\n",
        "\n",
        "def cargar_programas_por_carrera():\n",
        "    documentos_por_carrera = {}\n",
        "    for nombre_carrera in os.listdir(PROGRAMAS_DIR):\n",
        "        ruta_carrera = os.path.join(PROGRAMAS_DIR, nombre_carrera)\n",
        "        if os.path.isdir(ruta_carrera):\n",
        "            reader_programas = SimpleDirectoryReader(ruta_carrera, file_metadata=get_meta)\n",
        "            documentos = reader_programas.load_data()\n",
        "            documentos_por_carrera[nombre_carrera] = documentos\n",
        "    return documentos_por_carrera\n",
        "\n",
        "documentos_dict = cargar_programas_por_carrera()"
      ]
    },
    {
      "cell_type": "markdown",
      "id": "KFV0X8lSwt70",
      "metadata": {
        "id": "KFV0X8lSwt70"
      },
      "source": [
        "### Fragmentación y Nodos\n",
        "Luego de obtener los objetos `Document`, estos son divididos en **Nodos**, que son las **unidades mínimas de información**, fragmentos pequeños y optimizados para búsqueda y recuperación en el sistema RAG.\n"
      ]
    },
    {
      "cell_type": "code",
      "execution_count": null,
      "id": "Hw-vyJdSrAhZ",
      "metadata": {
        "id": "Hw-vyJdSrAhZ"
      },
      "outputs": [],
      "source": [
        "from llama_index.core.node_parser import SentenceSplitter\n",
        "\n",
        "def clean_text(text):\n",
        "    return text.encode(\"utf-8\", \"ignore\").decode(\"utf-8\")\n",
        "\n",
        "# Definir splitter\n",
        "splitter = SentenceSplitter(chunk_size=2048, chunk_overlap=500, include_metadata=True)\n",
        "\n",
        "# Obtener diccionario de nodos por carrera\n",
        "nodos_dict = {}\n",
        "for nombre_carrera, documentos in documentos_dict.items():\n",
        "    nodos_dict[nombre_carrera] = splitter.get_nodes_from_documents(documentos)\n",
        "    for nodo in nodos_dict[nombre_carrera]:\n",
        "        nodo.text = clean_text(nodo.text)"
      ]
    },
    {
      "cell_type": "markdown",
      "id": "NqaZ0ZrVM51B",
      "metadata": {
        "id": "NqaZ0ZrVM51B"
      },
      "source": [
        "## 🧭 Indexing (Indexación de Documentos)"
      ]
    },
    {
      "cell_type": "markdown",
      "id": "oGlBJVDTNkiI",
      "metadata": {
        "id": "oGlBJVDTNkiI"
      },
      "source": [
        "### 🧠 ¿Qué es el Indexado?\n",
        "La indexación consiste en convertir los documentos cargados en **vectores de embeddings** (representaciones numéricas del significado de cada Nodo) y organizarlos en una estructura especial llamada **índice vectorial** *(Vector Store)*, que incluye también los metadatos asociados.\n",
        "\n",
        "> 📌 Cada Node del documento se transforma en un vector de embedding.\n",
        "\n",
        "### 🔍 ¿Para qué sirve el índice?\n",
        "\n",
        "- Permite buscar por **significado**, no solo por coincidencia exacta.\n",
        "- Devuelve los **fragmentos más relevantes** para una consulta.\n",
        "- Es la base para construir el **contexto que se le pasa al LLM** (en RAG).\n",
        "\n",
        "> 📌 El índice es esencial para recuperar la información correcta en tiempo real y enriquecer las respuestas del modelo con datos específicos."
      ]
    },
    {
      "cell_type": "code",
      "execution_count": null,
      "id": "24aqk3v7DpFe",
      "metadata": {
        "id": "24aqk3v7DpFe"
      },
      "outputs": [],
      "source": [
        "from llama_index.embeddings.jinaai import JinaEmbedding\n",
        "\n",
        "# Definir embedding\n",
        "embed_model = JinaEmbedding(\n",
        "    model_name=\"jina-embeddings-v2-base-en\",\n",
        "    api_key=\"INGRESE_SU_API_KEY\"\n",
        ")"
      ]
    },
    {
      "cell_type": "markdown",
      "id": "uSeAsqQFCjO3",
      "metadata": {
        "id": "uSeAsqQFCjO3"
      },
      "source": [
        "## 💾 Storing (Almacenamiento de Embeddings)"
      ]
    },
    {
      "cell_type": "markdown",
      "id": "5rf539JfNqHg",
      "metadata": {
        "id": "5rf539JfNqHg"
      },
      "source": [
        "### 🧠 ¿Dónde se almacenan los embeddings?\n",
        "Una vez generados los embeddings de cada fragmento (Node), estos pueden guardarse en una **base de datos vectorial** como: **Chroma**, **FAISS**, **Weaviate**, **Pinecone**, entre otros\n",
        "\n",
        "Esto permite que el sistema sea **persistente** y **escalable**, sin tener que recalcular embeddings cada vez que se ejecuta.\n",
        "\n",
        "### 📦 ¿Qué se almacena?\n",
        "\n",
        "En el proceso de almacenamiento, se guarda:\n",
        "- 📊 **Embeddings**: el vector que representa el significado del nodo.\n",
        "- 🏷️ **Metadatos**: como nombre del archivo, página, sección, título, etc.\n",
        "- 🔗 **Relación con el documento original**: para reconstruir fácilmente el contexto completo.\n",
        "\n",
        "### 🧰 ¿Para qué sirve almacenar los embeddings?\n",
        "\n",
        "El almacenamiento en vector stores permite:\n",
        "\n",
        "- ✅ **Evitar recomputar** embeddings en cada ejecución.\n",
        "- 🔁 **Reutilizar el índice** en distintos procesos o notebooks.\n",
        "- 🚀 **Realizar consultas eficientes** sobre grandes volúmenes de información.\n",
        "- 🧠 **Mantener contexto** para el modelo sin procesar los documentos nuevamente."
      ]
    },
    {
      "cell_type": "code",
      "execution_count": null,
      "id": "q2-B9rgwB7Ry",
      "metadata": {
        "id": "q2-B9rgwB7Ry"
      },
      "outputs": [],
      "source": [
        "from llama_index.core import VectorStoreIndex\n",
        "from llama_index.vector_stores.chroma import ChromaVectorStore\n",
        "import chromadb, os, unicodedata, re\n",
        "\n",
        "def normalizar_nombre(nombre):\n",
        "    nombre = unicodedata.normalize('NFKD', nombre).encode('ascii', 'ignore').decode('ascii')\n",
        "    nombre = nombre.lower().replace(\" \", \"_\")\n",
        "    nombre = re.sub(r\"[^a-z0-9._-]\", \"\", nombre)\n",
        "    nombre = re.sub(r\"^[^a-z0-9]+\", \"\", nombre)\n",
        "    nombre = re.sub(r\"[^a-z0-9]+$\", \"\", nombre)\n",
        "    return nombre\n",
        "\n",
        "def create_index_from_documents(nodes, collection_name):\n",
        "    os.makedirs(\"./chroma_db\", exist_ok=True)\n",
        "    db = chromadb.PersistentClient(path=\"./chroma_db\")\n",
        "    chroma_collection = db.get_or_create_collection(collection_name)\n",
        "    vector_store = ChromaVectorStore(chroma_collection=chroma_collection)\n",
        "    index = VectorStoreIndex(\n",
        "        nodes,\n",
        "        embed_model=embed_model,\n",
        "        vector_store=vector_store\n",
        "    )\n",
        "    return index\n",
        "\n",
        "indexes = {}\n",
        "\n",
        "# Obtener diccionario de indices por carrera\n",
        "for nombre_carrera, nodes in nodos_dict.items():\n",
        "    nombre_index = normalizar_nombre(f\"programa_{nombre_carrera}\")\n",
        "    indexes[nombre_carrera] = create_index_from_documents(nodes, nombre_index)"
      ]
    },
    {
      "cell_type": "markdown",
      "id": "GU-Rg_4eFbfU",
      "metadata": {
        "id": "GU-Rg_4eFbfU"
      },
      "source": [
        "## 🔎 Querying (Consulta y Generación de Respuestas)\n"
      ]
    },
    {
      "cell_type": "markdown",
      "id": "ZH0Lpg_nNunI",
      "metadata": {
        "id": "ZH0Lpg_nNunI"
      },
      "source": [
        "En esta etapa, el sistema utiliza múltiples componentes para **recuperar información relevante** desde el índice y generar una **respuesta contextualizada** con ayuda del LLM.\n",
        "\n",
        "### 🧭 1. Retriever: Buscar Nodos Relevantes\n",
        "\n",
        "Un **Retriever** básico se encarga de:\n",
        "\n",
        "1. 🔢 Convertir la consulta del usuario en un **embedding**.\n",
        "2. 📍 Buscar los **Nodes más cercanos** (más relevantes) en el espacio vectorial del índice.\n",
        "3. 📦 Devolver esos fragmentos como **contexto** para el modelo."
      ]
    },
    {
      "cell_type": "code",
      "source": [
        "from llama_index.llms.huggingface_api import HuggingFaceInferenceAPI\n",
        "from llama_index.core.tools import QueryEngineTool\n",
        "\n",
        "# CON HUGGING FACE VIA API\n",
        "HF_TOKEN = \"INGRESE_SU_API_KEY\"\n",
        "\n",
        "# Definimos el llm a utilizar como base para el RAG\n",
        "llm = HuggingFaceInferenceAPI(\n",
        "    model_name=\"meta-llama/Llama-3.3-70B-Instruct\",\n",
        "    token=HF_TOKEN,\n",
        "    provider=\"hf-inference\"\n",
        ")\n",
        "\n",
        "# Definimos las query_engine_tools, que contienen dentro los Retrievers\n",
        "tools = []\n",
        "for nombre_carrera, index in indexes.items():\n",
        "    query_engine = index.as_query_engine(\n",
        "        llm=llm,\n",
        "        response_mode=\"tree_summarize\",\n",
        "        use_async=True\n",
        "    )\n",
        "    tool = QueryEngineTool.from_defaults(\n",
        "        query_engine=query_engine,\n",
        "        description=f\"Información sobre los programas de las asignaturas de la carrera de {nombre_carrera} de la Universidad Nacional de Lujan. Incluye contenidos, equipo docente, condicion de regular y aprobado y correlatividad de cada materia/asignatura\"\n",
        "    )\n",
        "    tools.append(tool)"
      ],
      "metadata": {
        "id": "hZktChCGm33y"
      },
      "id": "hZktChCGm33y",
      "execution_count": null,
      "outputs": []
    },
    {
      "cell_type": "markdown",
      "id": "pminb01SBILE",
      "metadata": {
        "id": "pminb01SBILE"
      },
      "source": [
        "### 🧠 2. Router: Elegir el Índice Correcto\n",
        "\n",
        "Trabajamos con **múltiples fuentes de conocimiento** (En este caso: programas de asignaturas de distintas carreras), por lo que podemos usar un `Router`.\n",
        "\n",
        "📌 **¿Qué hace?**\n",
        "\n",
        "- Evalúa la consulta.\n",
        "- Selecciona automáticamente el **Retriever** (y por lo tanto el índice) más adecuado.\n",
        "- Redirige la consulta al índice más relevante.\n",
        "\n",
        "> Útil cuando tenés múltiples dominios o tipos de documentos en un mismo sistema.\n"
      ]
    },
    {
      "cell_type": "code",
      "source": [
        "from llama_index.core.query_engine import RouterQueryEngine\n",
        "from llama_index.core.selectors.llm_selectors import LLMSingleSelector\n",
        "\n",
        "# Creamos el router con un selector que elige solo uno de los Retriever especificados\n",
        "router = RouterQueryEngine(\n",
        "    selector=LLMSingleSelector.from_defaults(llm=llm),\n",
        "    query_engine_tools=tools,\n",
        "    llm=llm\n",
        ")\n",
        "\n",
        "consulta = input(\"Ingrese su consulta: \")\n",
        "\n",
        "response = router.query(consulta)\n",
        "print(\"💬 Con RAG:\\n\", response)\n",
        "print()\n",
        "\n",
        "llm_noRAG = HuggingFaceInferenceAPI(\n",
        "    model_name=\"meta-llama/Llama-3.3-70B-Instruct\",\n",
        "    token=HF_TOKEN,\n",
        "    provider=\"hf-inference\"\n",
        ")\n",
        "response = llm_noRAG.complete(consulta)\n",
        "print(\"💬 Sin RAG:\\n\", response)\n",
        "print()"
      ],
      "metadata": {
        "id": "yQTypGhT_ppG"
      },
      "id": "yQTypGhT_ppG",
      "execution_count": null,
      "outputs": []
    }
  ],
  "metadata": {
    "colab": {
      "provenance": []
    },
    "kernelspec": {
      "display_name": "Python 3",
      "language": "python",
      "name": "python3"
    },
    "language_info": {
      "name": "python",
      "version": "3.10"
    }
  },
  "nbformat": 4,
  "nbformat_minor": 5
}